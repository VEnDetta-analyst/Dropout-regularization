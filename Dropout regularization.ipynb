{
 "cells": [
  {
   "cell_type": "code",
   "execution_count": 1,
   "metadata": {},
   "outputs": [],
   "source": [
    "import numpy as np\n",
    "import pandas as pd\n",
    "import matplotlib.pyplot as plt\n",
    "import tensorflow as tf\n",
    "from tensorflow import keras"
   ]
  },
  {
   "cell_type": "code",
   "execution_count": 2,
   "metadata": {},
   "outputs": [
    {
     "data": {
      "text/html": [
       "<div>\n",
       "<style scoped>\n",
       "    .dataframe tbody tr th:only-of-type {\n",
       "        vertical-align: middle;\n",
       "    }\n",
       "\n",
       "    .dataframe tbody tr th {\n",
       "        vertical-align: top;\n",
       "    }\n",
       "\n",
       "    .dataframe thead th {\n",
       "        text-align: right;\n",
       "    }\n",
       "</style>\n",
       "<table border=\"1\" class=\"dataframe\">\n",
       "  <thead>\n",
       "    <tr style=\"text-align: right;\">\n",
       "      <th></th>\n",
       "      <th>0</th>\n",
       "      <th>1</th>\n",
       "      <th>2</th>\n",
       "      <th>3</th>\n",
       "      <th>4</th>\n",
       "      <th>5</th>\n",
       "      <th>6</th>\n",
       "      <th>7</th>\n",
       "      <th>8</th>\n",
       "      <th>9</th>\n",
       "      <th>...</th>\n",
       "      <th>51</th>\n",
       "      <th>52</th>\n",
       "      <th>53</th>\n",
       "      <th>54</th>\n",
       "      <th>55</th>\n",
       "      <th>56</th>\n",
       "      <th>57</th>\n",
       "      <th>58</th>\n",
       "      <th>59</th>\n",
       "      <th>60</th>\n",
       "    </tr>\n",
       "  </thead>\n",
       "  <tbody>\n",
       "    <tr>\n",
       "      <th>0</th>\n",
       "      <td>0.0200</td>\n",
       "      <td>0.0371</td>\n",
       "      <td>0.0428</td>\n",
       "      <td>0.0207</td>\n",
       "      <td>0.0954</td>\n",
       "      <td>0.0986</td>\n",
       "      <td>0.1539</td>\n",
       "      <td>0.1601</td>\n",
       "      <td>0.3109</td>\n",
       "      <td>0.2111</td>\n",
       "      <td>...</td>\n",
       "      <td>0.0027</td>\n",
       "      <td>0.0065</td>\n",
       "      <td>0.0159</td>\n",
       "      <td>0.0072</td>\n",
       "      <td>0.0167</td>\n",
       "      <td>0.0180</td>\n",
       "      <td>0.0084</td>\n",
       "      <td>0.0090</td>\n",
       "      <td>0.0032</td>\n",
       "      <td>R</td>\n",
       "    </tr>\n",
       "    <tr>\n",
       "      <th>1</th>\n",
       "      <td>0.0453</td>\n",
       "      <td>0.0523</td>\n",
       "      <td>0.0843</td>\n",
       "      <td>0.0689</td>\n",
       "      <td>0.1183</td>\n",
       "      <td>0.2583</td>\n",
       "      <td>0.2156</td>\n",
       "      <td>0.3481</td>\n",
       "      <td>0.3337</td>\n",
       "      <td>0.2872</td>\n",
       "      <td>...</td>\n",
       "      <td>0.0084</td>\n",
       "      <td>0.0089</td>\n",
       "      <td>0.0048</td>\n",
       "      <td>0.0094</td>\n",
       "      <td>0.0191</td>\n",
       "      <td>0.0140</td>\n",
       "      <td>0.0049</td>\n",
       "      <td>0.0052</td>\n",
       "      <td>0.0044</td>\n",
       "      <td>R</td>\n",
       "    </tr>\n",
       "    <tr>\n",
       "      <th>2</th>\n",
       "      <td>0.0262</td>\n",
       "      <td>0.0582</td>\n",
       "      <td>0.1099</td>\n",
       "      <td>0.1083</td>\n",
       "      <td>0.0974</td>\n",
       "      <td>0.2280</td>\n",
       "      <td>0.2431</td>\n",
       "      <td>0.3771</td>\n",
       "      <td>0.5598</td>\n",
       "      <td>0.6194</td>\n",
       "      <td>...</td>\n",
       "      <td>0.0232</td>\n",
       "      <td>0.0166</td>\n",
       "      <td>0.0095</td>\n",
       "      <td>0.0180</td>\n",
       "      <td>0.0244</td>\n",
       "      <td>0.0316</td>\n",
       "      <td>0.0164</td>\n",
       "      <td>0.0095</td>\n",
       "      <td>0.0078</td>\n",
       "      <td>R</td>\n",
       "    </tr>\n",
       "    <tr>\n",
       "      <th>3</th>\n",
       "      <td>0.0100</td>\n",
       "      <td>0.0171</td>\n",
       "      <td>0.0623</td>\n",
       "      <td>0.0205</td>\n",
       "      <td>0.0205</td>\n",
       "      <td>0.0368</td>\n",
       "      <td>0.1098</td>\n",
       "      <td>0.1276</td>\n",
       "      <td>0.0598</td>\n",
       "      <td>0.1264</td>\n",
       "      <td>...</td>\n",
       "      <td>0.0121</td>\n",
       "      <td>0.0036</td>\n",
       "      <td>0.0150</td>\n",
       "      <td>0.0085</td>\n",
       "      <td>0.0073</td>\n",
       "      <td>0.0050</td>\n",
       "      <td>0.0044</td>\n",
       "      <td>0.0040</td>\n",
       "      <td>0.0117</td>\n",
       "      <td>R</td>\n",
       "    </tr>\n",
       "    <tr>\n",
       "      <th>4</th>\n",
       "      <td>0.0762</td>\n",
       "      <td>0.0666</td>\n",
       "      <td>0.0481</td>\n",
       "      <td>0.0394</td>\n",
       "      <td>0.0590</td>\n",
       "      <td>0.0649</td>\n",
       "      <td>0.1209</td>\n",
       "      <td>0.2467</td>\n",
       "      <td>0.3564</td>\n",
       "      <td>0.4459</td>\n",
       "      <td>...</td>\n",
       "      <td>0.0031</td>\n",
       "      <td>0.0054</td>\n",
       "      <td>0.0105</td>\n",
       "      <td>0.0110</td>\n",
       "      <td>0.0015</td>\n",
       "      <td>0.0072</td>\n",
       "      <td>0.0048</td>\n",
       "      <td>0.0107</td>\n",
       "      <td>0.0094</td>\n",
       "      <td>R</td>\n",
       "    </tr>\n",
       "  </tbody>\n",
       "</table>\n",
       "<p>5 rows × 61 columns</p>\n",
       "</div>"
      ],
      "text/plain": [
       "       0       1       2       3       4       5       6       7       8   \\\n",
       "0  0.0200  0.0371  0.0428  0.0207  0.0954  0.0986  0.1539  0.1601  0.3109   \n",
       "1  0.0453  0.0523  0.0843  0.0689  0.1183  0.2583  0.2156  0.3481  0.3337   \n",
       "2  0.0262  0.0582  0.1099  0.1083  0.0974  0.2280  0.2431  0.3771  0.5598   \n",
       "3  0.0100  0.0171  0.0623  0.0205  0.0205  0.0368  0.1098  0.1276  0.0598   \n",
       "4  0.0762  0.0666  0.0481  0.0394  0.0590  0.0649  0.1209  0.2467  0.3564   \n",
       "\n",
       "       9   ...      51      52      53      54      55      56      57  \\\n",
       "0  0.2111  ...  0.0027  0.0065  0.0159  0.0072  0.0167  0.0180  0.0084   \n",
       "1  0.2872  ...  0.0084  0.0089  0.0048  0.0094  0.0191  0.0140  0.0049   \n",
       "2  0.6194  ...  0.0232  0.0166  0.0095  0.0180  0.0244  0.0316  0.0164   \n",
       "3  0.1264  ...  0.0121  0.0036  0.0150  0.0085  0.0073  0.0050  0.0044   \n",
       "4  0.4459  ...  0.0031  0.0054  0.0105  0.0110  0.0015  0.0072  0.0048   \n",
       "\n",
       "       58      59  60  \n",
       "0  0.0090  0.0032   R  \n",
       "1  0.0052  0.0044   R  \n",
       "2  0.0095  0.0078   R  \n",
       "3  0.0040  0.0117   R  \n",
       "4  0.0107  0.0094   R  \n",
       "\n",
       "[5 rows x 61 columns]"
      ]
     },
     "execution_count": 2,
     "metadata": {},
     "output_type": "execute_result"
    }
   ],
   "source": [
    "import warnings\n",
    "warnings.filterwarnings('ignore')\n",
    "\n",
    "df=pd.read_csv('sonar_dataset.csv',header=None)\n",
    "df.head()"
   ]
  },
  {
   "cell_type": "code",
   "execution_count": 3,
   "metadata": {},
   "outputs": [
    {
     "data": {
      "text/plain": [
       "0     float64\n",
       "1     float64\n",
       "2     float64\n",
       "3     float64\n",
       "4     float64\n",
       "       ...   \n",
       "56    float64\n",
       "57    float64\n",
       "58    float64\n",
       "59    float64\n",
       "60     object\n",
       "Length: 61, dtype: object"
      ]
     },
     "execution_count": 3,
     "metadata": {},
     "output_type": "execute_result"
    }
   ],
   "source": [
    "df.dtypes"
   ]
  },
  {
   "cell_type": "code",
   "execution_count": 4,
   "metadata": {},
   "outputs": [
    {
     "data": {
      "text/plain": [
       "(208, 61)"
      ]
     },
     "execution_count": 4,
     "metadata": {},
     "output_type": "execute_result"
    }
   ],
   "source": [
    "df.shape"
   ]
  },
  {
   "cell_type": "code",
   "execution_count": 5,
   "metadata": {},
   "outputs": [
    {
     "data": {
      "text/plain": [
       "0     0\n",
       "1     0\n",
       "2     0\n",
       "3     0\n",
       "4     0\n",
       "     ..\n",
       "56    0\n",
       "57    0\n",
       "58    0\n",
       "59    0\n",
       "60    0\n",
       "Length: 61, dtype: int64"
      ]
     },
     "execution_count": 5,
     "metadata": {},
     "output_type": "execute_result"
    }
   ],
   "source": [
    "df.isna().sum()"
   ]
  },
  {
   "cell_type": "code",
   "execution_count": 6,
   "metadata": {},
   "outputs": [
    {
     "data": {
      "text/plain": [
       "Int64Index([ 0,  1,  2,  3,  4,  5,  6,  7,  8,  9, 10, 11, 12, 13, 14, 15, 16,\n",
       "            17, 18, 19, 20, 21, 22, 23, 24, 25, 26, 27, 28, 29, 30, 31, 32, 33,\n",
       "            34, 35, 36, 37, 38, 39, 40, 41, 42, 43, 44, 45, 46, 47, 48, 49, 50,\n",
       "            51, 52, 53, 54, 55, 56, 57, 58, 59, 60],\n",
       "           dtype='int64')"
      ]
     },
     "execution_count": 6,
     "metadata": {},
     "output_type": "execute_result"
    }
   ],
   "source": [
    "df.columns"
   ]
  },
  {
   "cell_type": "code",
   "execution_count": 7,
   "metadata": {},
   "outputs": [
    {
     "data": {
      "text/plain": [
       "M    111\n",
       "R     97\n",
       "Name: 60, dtype: int64"
      ]
     },
     "execution_count": 7,
     "metadata": {},
     "output_type": "execute_result"
    }
   ],
   "source": [
    "df[60].value_counts()"
   ]
  },
  {
   "cell_type": "markdown",
   "metadata": {},
   "source": [
    "111 samples of metal cylinder & 97 samples of rock"
   ]
  },
  {
   "cell_type": "markdown",
   "metadata": {},
   "source": [
    "Now dividing the data"
   ]
  },
  {
   "cell_type": "code",
   "execution_count": 8,
   "metadata": {},
   "outputs": [],
   "source": [
    "x=df.drop(60,axis=1)\n",
    "y=df[60]"
   ]
  },
  {
   "cell_type": "markdown",
   "metadata": {},
   "source": [
    "Changing y object type to numeric by using one hot encoding"
   ]
  },
  {
   "cell_type": "code",
   "execution_count": 9,
   "metadata": {},
   "outputs": [
    {
     "data": {
      "text/html": [
       "<div>\n",
       "<style scoped>\n",
       "    .dataframe tbody tr th:only-of-type {\n",
       "        vertical-align: middle;\n",
       "    }\n",
       "\n",
       "    .dataframe tbody tr th {\n",
       "        vertical-align: top;\n",
       "    }\n",
       "\n",
       "    .dataframe thead th {\n",
       "        text-align: right;\n",
       "    }\n",
       "</style>\n",
       "<table border=\"1\" class=\"dataframe\">\n",
       "  <thead>\n",
       "    <tr style=\"text-align: right;\">\n",
       "      <th></th>\n",
       "      <th>R</th>\n",
       "    </tr>\n",
       "  </thead>\n",
       "  <tbody>\n",
       "    <tr>\n",
       "      <th>0</th>\n",
       "      <td>1</td>\n",
       "    </tr>\n",
       "    <tr>\n",
       "      <th>1</th>\n",
       "      <td>1</td>\n",
       "    </tr>\n",
       "    <tr>\n",
       "      <th>2</th>\n",
       "      <td>1</td>\n",
       "    </tr>\n",
       "    <tr>\n",
       "      <th>3</th>\n",
       "      <td>1</td>\n",
       "    </tr>\n",
       "    <tr>\n",
       "      <th>4</th>\n",
       "      <td>1</td>\n",
       "    </tr>\n",
       "  </tbody>\n",
       "</table>\n",
       "</div>"
      ],
      "text/plain": [
       "   R\n",
       "0  1\n",
       "1  1\n",
       "2  1\n",
       "3  1\n",
       "4  1"
      ]
     },
     "execution_count": 9,
     "metadata": {},
     "output_type": "execute_result"
    }
   ],
   "source": [
    "y=pd.get_dummies(y,drop_first=True)\n",
    "y.head(5)\n",
    "#R--1 & M--0"
   ]
  },
  {
   "cell_type": "code",
   "execution_count": 15,
   "metadata": {},
   "outputs": [],
   "source": [
    "from sklearn.model_selection import train_test_split\n",
    "x_train,x_test,y_train,y_test=train_test_split(x,y,random_state=1,test_size=0.25)\n"
   ]
  },
  {
   "cell_type": "code",
   "execution_count": 17,
   "metadata": {},
   "outputs": [
    {
     "data": {
      "text/plain": [
       "((156, 60), (52, 60))"
      ]
     },
     "execution_count": 17,
     "metadata": {},
     "output_type": "execute_result"
    }
   ],
   "source": [
    "x_train.shape,x_test.shape"
   ]
  },
  {
   "cell_type": "code",
   "execution_count": 19,
   "metadata": {},
   "outputs": [
    {
     "name": "stdout",
     "output_type": "stream",
     "text": [
      "Epoch 1/100\n",
      "20/20 [==============================] - 0s 770us/step - loss: 0.7061 - accuracy: 0.4872\n",
      "Epoch 2/100\n",
      "20/20 [==============================] - 0s 777us/step - loss: 0.6817 - accuracy: 0.5385\n",
      "Epoch 3/100\n",
      "20/20 [==============================] - 0s 733us/step - loss: 0.6723 - accuracy: 0.5192\n",
      "Epoch 4/100\n",
      "20/20 [==============================] - 0s 724us/step - loss: 0.6548 - accuracy: 0.5705\n",
      "Epoch 5/100\n",
      "20/20 [==============================] - 0s 702us/step - loss: 0.6344 - accuracy: 0.6474\n",
      "Epoch 6/100\n",
      "20/20 [==============================] - 0s 755us/step - loss: 0.6052 - accuracy: 0.6987\n",
      "Epoch 7/100\n",
      "20/20 [==============================] - 0s 690us/step - loss: 0.5765 - accuracy: 0.7308\n",
      "Epoch 8/100\n",
      "20/20 [==============================] - 0s 701us/step - loss: 0.5453 - accuracy: 0.8013\n",
      "Epoch 9/100\n",
      "20/20 [==============================] - 0s 735us/step - loss: 0.5149 - accuracy: 0.7692\n",
      "Epoch 10/100\n",
      "20/20 [==============================] - 0s 734us/step - loss: 0.4863 - accuracy: 0.7692\n",
      "Epoch 11/100\n",
      "20/20 [==============================] - 0s 683us/step - loss: 0.4606 - accuracy: 0.8077\n",
      "Epoch 12/100\n",
      "20/20 [==============================] - 0s 690us/step - loss: 0.4494 - accuracy: 0.7756\n",
      "Epoch 13/100\n",
      "20/20 [==============================] - 0s 627us/step - loss: 0.4253 - accuracy: 0.8269\n",
      "Epoch 14/100\n",
      "20/20 [==============================] - 0s 675us/step - loss: 0.4188 - accuracy: 0.8205\n",
      "Epoch 15/100\n",
      "20/20 [==============================] - 0s 787us/step - loss: 0.3962 - accuracy: 0.8526\n",
      "Epoch 16/100\n",
      "20/20 [==============================] - 0s 772us/step - loss: 0.3586 - accuracy: 0.8654\n",
      "Epoch 17/100\n",
      "20/20 [==============================] - 0s 778us/step - loss: 0.3976 - accuracy: 0.7885\n",
      "Epoch 18/100\n",
      "20/20 [==============================] - 0s 707us/step - loss: 0.3988 - accuracy: 0.8205\n",
      "Epoch 19/100\n",
      "20/20 [==============================] - 0s 754us/step - loss: 0.3662 - accuracy: 0.8269\n",
      "Epoch 20/100\n",
      "20/20 [==============================] - 0s 717us/step - loss: 0.3291 - accuracy: 0.8846\n",
      "Epoch 21/100\n",
      "20/20 [==============================] - 0s 682us/step - loss: 0.3340 - accuracy: 0.8718\n",
      "Epoch 22/100\n",
      "20/20 [==============================] - 0s 741us/step - loss: 0.2872 - accuracy: 0.9167\n",
      "Epoch 23/100\n",
      "20/20 [==============================] - 0s 778us/step - loss: 0.2753 - accuracy: 0.9295\n",
      "Epoch 24/100\n",
      "20/20 [==============================] - 0s 735us/step - loss: 0.2682 - accuracy: 0.9103\n",
      "Epoch 25/100\n",
      "20/20 [==============================] - 0s 759us/step - loss: 0.2844 - accuracy: 0.8910\n",
      "Epoch 26/100\n",
      "20/20 [==============================] - 0s 736us/step - loss: 0.2499 - accuracy: 0.9038\n",
      "Epoch 27/100\n",
      "20/20 [==============================] - 0s 736us/step - loss: 0.2523 - accuracy: 0.9167\n",
      "Epoch 28/100\n",
      "20/20 [==============================] - 0s 722us/step - loss: 0.2200 - accuracy: 0.9487\n",
      "Epoch 29/100\n",
      "20/20 [==============================] - 0s 754us/step - loss: 0.2122 - accuracy: 0.9487\n",
      "Epoch 30/100\n",
      "20/20 [==============================] - 0s 735us/step - loss: 0.2001 - accuracy: 0.9295\n",
      "Epoch 31/100\n",
      "20/20 [==============================] - 0s 704us/step - loss: 0.1941 - accuracy: 0.9423\n",
      "Epoch 32/100\n",
      "20/20 [==============================] - 0s 720us/step - loss: 0.1855 - accuracy: 0.9423\n",
      "Epoch 33/100\n",
      "20/20 [==============================] - 0s 787us/step - loss: 0.1869 - accuracy: 0.9423\n",
      "Epoch 34/100\n",
      "20/20 [==============================] - 0s 697us/step - loss: 0.1617 - accuracy: 0.9551\n",
      "Epoch 35/100\n",
      "20/20 [==============================] - 0s 754us/step - loss: 0.1748 - accuracy: 0.9423\n",
      "Epoch 36/100\n",
      "20/20 [==============================] - 0s 732us/step - loss: 0.1525 - accuracy: 0.9551\n",
      "Epoch 37/100\n",
      "20/20 [==============================] - 0s 778us/step - loss: 0.1468 - accuracy: 0.9615\n",
      "Epoch 38/100\n",
      "20/20 [==============================] - 0s 716us/step - loss: 0.1557 - accuracy: 0.9487\n",
      "Epoch 39/100\n",
      "20/20 [==============================] - 0s 682us/step - loss: 0.1302 - accuracy: 0.9551\n",
      "Epoch 40/100\n",
      "20/20 [==============================] - 0s 683us/step - loss: 0.1316 - accuracy: 0.9744\n",
      "Epoch 41/100\n",
      "20/20 [==============================] - 0s 714us/step - loss: 0.1635 - accuracy: 0.9295\n",
      "Epoch 42/100\n",
      "20/20 [==============================] - 0s 773us/step - loss: 0.1253 - accuracy: 0.9615\n",
      "Epoch 43/100\n",
      "20/20 [==============================] - 0s 734us/step - loss: 0.1072 - accuracy: 0.9744\n",
      "Epoch 44/100\n",
      "20/20 [==============================] - 0s 1ms/step - loss: 0.1034 - accuracy: 0.9615\n",
      "Epoch 45/100\n",
      "20/20 [==============================] - 0s 808us/step - loss: 0.0865 - accuracy: 0.9936\n",
      "Epoch 46/100\n",
      "20/20 [==============================] - 0s 789us/step - loss: 0.0812 - accuracy: 0.9872\n",
      "Epoch 47/100\n",
      "20/20 [==============================] - 0s 733us/step - loss: 0.0888 - accuracy: 0.9872\n",
      "Epoch 48/100\n",
      "20/20 [==============================] - 0s 730us/step - loss: 0.0666 - accuracy: 0.9872\n",
      "Epoch 49/100\n",
      "20/20 [==============================] - 0s 734us/step - loss: 0.0724 - accuracy: 0.9872\n",
      "Epoch 50/100\n",
      "20/20 [==============================] - 0s 786us/step - loss: 0.0699 - accuracy: 0.9936\n",
      "Epoch 51/100\n",
      "20/20 [==============================] - 0s 676us/step - loss: 0.0789 - accuracy: 0.9872\n",
      "Epoch 52/100\n",
      "20/20 [==============================] - 0s 750us/step - loss: 0.0672 - accuracy: 0.9872\n",
      "Epoch 53/100\n",
      "20/20 [==============================] - 0s 732us/step - loss: 0.0591 - accuracy: 0.9936\n",
      "Epoch 54/100\n",
      "20/20 [==============================] - 0s 841us/step - loss: 0.0592 - accuracy: 1.0000\n",
      "Epoch 55/100\n",
      "20/20 [==============================] - 0s 706us/step - loss: 0.0742 - accuracy: 0.9872\n",
      "Epoch 56/100\n",
      "20/20 [==============================] - 0s 731us/step - loss: 0.0435 - accuracy: 0.9936\n",
      "Epoch 57/100\n",
      "20/20 [==============================] - 0s 785us/step - loss: 0.0389 - accuracy: 0.9936\n",
      "Epoch 58/100\n",
      "20/20 [==============================] - 0s 683us/step - loss: 0.0343 - accuracy: 1.0000\n",
      "Epoch 59/100\n",
      "20/20 [==============================] - 0s 790us/step - loss: 0.0347 - accuracy: 0.9936\n",
      "Epoch 60/100\n",
      "20/20 [==============================] - 0s 734us/step - loss: 0.0338 - accuracy: 0.9936\n",
      "Epoch 61/100\n",
      "20/20 [==============================] - 0s 734us/step - loss: 0.0343 - accuracy: 0.9936\n",
      "Epoch 62/100\n",
      "20/20 [==============================] - 0s 766us/step - loss: 0.0346 - accuracy: 0.9872\n",
      "Epoch 63/100\n",
      "20/20 [==============================] - 0s 750us/step - loss: 0.0273 - accuracy: 1.0000\n",
      "Epoch 64/100\n",
      "20/20 [==============================] - 0s 733us/step - loss: 0.0250 - accuracy: 0.9936\n",
      "Epoch 65/100\n",
      "20/20 [==============================] - 0s 708us/step - loss: 0.0271 - accuracy: 1.0000\n",
      "Epoch 66/100\n",
      "20/20 [==============================] - 0s 774us/step - loss: 0.0237 - accuracy: 1.0000\n",
      "Epoch 67/100\n",
      "20/20 [==============================] - 0s 731us/step - loss: 0.0265 - accuracy: 1.0000\n",
      "Epoch 68/100\n",
      "20/20 [==============================] - 0s 730us/step - loss: 0.0175 - accuracy: 1.0000\n",
      "Epoch 69/100\n",
      "20/20 [==============================] - 0s 733us/step - loss: 0.0186 - accuracy: 1.0000\n",
      "Epoch 70/100\n",
      "20/20 [==============================] - 0s 741us/step - loss: 0.0172 - accuracy: 1.0000\n",
      "Epoch 71/100\n",
      "20/20 [==============================] - 0s 722us/step - loss: 0.0215 - accuracy: 0.9936\n",
      "Epoch 72/100\n",
      "20/20 [==============================] - 0s 784us/step - loss: 0.0182 - accuracy: 1.0000\n",
      "Epoch 73/100\n",
      "20/20 [==============================] - 0s 756us/step - loss: 0.0145 - accuracy: 1.0000\n",
      "Epoch 74/100\n",
      "20/20 [==============================] - 0s 711us/step - loss: 0.0135 - accuracy: 1.0000\n",
      "Epoch 75/100\n",
      "20/20 [==============================] - 0s 743us/step - loss: 0.0111 - accuracy: 1.0000\n",
      "Epoch 76/100\n",
      "20/20 [==============================] - 0s 804us/step - loss: 0.0096 - accuracy: 1.0000\n",
      "Epoch 77/100\n",
      "20/20 [==============================] - 0s 735us/step - loss: 0.0084 - accuracy: 1.0000\n",
      "Epoch 78/100\n",
      "20/20 [==============================] - 0s 777us/step - loss: 0.0084 - accuracy: 1.0000\n",
      "Epoch 79/100\n",
      "20/20 [==============================] - 0s 779us/step - loss: 0.0075 - accuracy: 1.0000\n",
      "Epoch 80/100\n",
      "20/20 [==============================] - 0s 767us/step - loss: 0.0080 - accuracy: 1.0000\n",
      "Epoch 81/100\n",
      "20/20 [==============================] - 0s 742us/step - loss: 0.0075 - accuracy: 1.0000\n",
      "Epoch 82/100\n",
      "20/20 [==============================] - 0s 787us/step - loss: 0.0062 - accuracy: 1.0000\n",
      "Epoch 83/100\n",
      "20/20 [==============================] - 0s 789us/step - loss: 0.0061 - accuracy: 1.0000\n",
      "Epoch 84/100\n",
      "20/20 [==============================] - 0s 712us/step - loss: 0.0075 - accuracy: 1.0000\n",
      "Epoch 85/100\n",
      "20/20 [==============================] - 0s 756us/step - loss: 0.0055 - accuracy: 1.0000\n",
      "Epoch 86/100\n",
      "20/20 [==============================] - 0s 759us/step - loss: 0.0050 - accuracy: 1.0000\n",
      "Epoch 87/100\n",
      "20/20 [==============================] - 0s 705us/step - loss: 0.0048 - accuracy: 1.0000\n",
      "Epoch 88/100\n",
      "20/20 [==============================] - 0s 748us/step - loss: 0.0041 - accuracy: 1.0000\n",
      "Epoch 89/100\n",
      "20/20 [==============================] - 0s 734us/step - loss: 0.0038 - accuracy: 1.0000\n",
      "Epoch 90/100\n",
      "20/20 [==============================] - 0s 706us/step - loss: 0.0035 - accuracy: 1.0000\n",
      "Epoch 91/100\n",
      "20/20 [==============================] - 0s 683us/step - loss: 0.0035 - accuracy: 1.0000\n",
      "Epoch 92/100\n",
      "20/20 [==============================] - 0s 683us/step - loss: 0.0033 - accuracy: 1.0000\n",
      "Epoch 93/100\n",
      "20/20 [==============================] - 0s 680us/step - loss: 0.0032 - accuracy: 1.0000\n",
      "Epoch 94/100\n",
      "20/20 [==============================] - 0s 735us/step - loss: 0.0030 - accuracy: 1.0000\n",
      "Epoch 95/100\n",
      "20/20 [==============================] - 0s 660us/step - loss: 0.0030 - accuracy: 1.0000\n",
      "Epoch 96/100\n",
      "20/20 [==============================] - 0s 682us/step - loss: 0.0031 - accuracy: 1.0000\n",
      "Epoch 97/100\n",
      "20/20 [==============================] - 0s 681us/step - loss: 0.0029 - accuracy: 1.0000\n",
      "Epoch 98/100\n",
      "20/20 [==============================] - 0s 682us/step - loss: 0.0025 - accuracy: 1.0000\n",
      "Epoch 99/100\n",
      "20/20 [==============================] - 0s 736us/step - loss: 0.0025 - accuracy: 1.0000\n",
      "Epoch 100/100\n",
      "20/20 [==============================] - 0s 744us/step - loss: 0.0024 - accuracy: 1.0000\n"
     ]
    },
    {
     "data": {
      "text/plain": [
       "<tensorflow.python.keras.callbacks.History at 0x24f4d5e24c0>"
      ]
     },
     "execution_count": 19,
     "metadata": {},
     "output_type": "execute_result"
    }
   ],
   "source": [
    "model=keras.Sequential([\n",
    "    keras.layers.Dense(60,input_dim=60, activation='relu'),\n",
    "    keras.layers.Dense(30,activation='relu'),\n",
    "    keras.layers.Dense(15,activation='relu'),\n",
    "    keras.layers.Dense(1,activation='sigmoid')\n",
    "])\n",
    "\n",
    "model.compile(loss='binary_crossentropy',optimizer='adam',metrics=['accuracy'])\n",
    "\n",
    "model.fit(x_train,y_train,epochs=100,batch_size=8)"
   ]
  },
  {
   "cell_type": "markdown",
   "metadata": {},
   "source": [
    "We can see model is overfit"
   ]
  },
  {
   "cell_type": "code",
   "execution_count": 20,
   "metadata": {},
   "outputs": [
    {
     "name": "stdout",
     "output_type": "stream",
     "text": [
      "2/2 [==============================] - 0s 999us/step - loss: 1.0707 - accuracy: 0.7885\n"
     ]
    },
    {
     "data": {
      "text/plain": [
       "[1.0707484483718872, 0.7884615659713745]"
      ]
     },
     "execution_count": 20,
     "metadata": {},
     "output_type": "execute_result"
    }
   ],
   "source": [
    "model.evaluate(x_test,y_test)"
   ]
  },
  {
   "cell_type": "code",
   "execution_count": 25,
   "metadata": {},
   "outputs": [],
   "source": [
    "y_pred=model.predict(x_test).reshape(-1)\n",
    "y_pred=np.round(y_pred)"
   ]
  },
  {
   "cell_type": "code",
   "execution_count": 28,
   "metadata": {},
   "outputs": [
    {
     "data": {
      "text/plain": [
       "array([0., 1., 1., 0., 1., 1., 0., 1., 0., 1.], dtype=float32)"
      ]
     },
     "execution_count": 28,
     "metadata": {},
     "output_type": "execute_result"
    }
   ],
   "source": [
    "y_pred[:10]"
   ]
  },
  {
   "cell_type": "code",
   "execution_count": 29,
   "metadata": {},
   "outputs": [
    {
     "data": {
      "text/html": [
       "<div>\n",
       "<style scoped>\n",
       "    .dataframe tbody tr th:only-of-type {\n",
       "        vertical-align: middle;\n",
       "    }\n",
       "\n",
       "    .dataframe tbody tr th {\n",
       "        vertical-align: top;\n",
       "    }\n",
       "\n",
       "    .dataframe thead th {\n",
       "        text-align: right;\n",
       "    }\n",
       "</style>\n",
       "<table border=\"1\" class=\"dataframe\">\n",
       "  <thead>\n",
       "    <tr style=\"text-align: right;\">\n",
       "      <th></th>\n",
       "      <th>R</th>\n",
       "    </tr>\n",
       "  </thead>\n",
       "  <tbody>\n",
       "    <tr>\n",
       "      <th>186</th>\n",
       "      <td>0</td>\n",
       "    </tr>\n",
       "    <tr>\n",
       "      <th>155</th>\n",
       "      <td>0</td>\n",
       "    </tr>\n",
       "    <tr>\n",
       "      <th>165</th>\n",
       "      <td>0</td>\n",
       "    </tr>\n",
       "    <tr>\n",
       "      <th>200</th>\n",
       "      <td>0</td>\n",
       "    </tr>\n",
       "    <tr>\n",
       "      <th>58</th>\n",
       "      <td>1</td>\n",
       "    </tr>\n",
       "    <tr>\n",
       "      <th>34</th>\n",
       "      <td>1</td>\n",
       "    </tr>\n",
       "    <tr>\n",
       "      <th>151</th>\n",
       "      <td>0</td>\n",
       "    </tr>\n",
       "    <tr>\n",
       "      <th>18</th>\n",
       "      <td>1</td>\n",
       "    </tr>\n",
       "    <tr>\n",
       "      <th>202</th>\n",
       "      <td>0</td>\n",
       "    </tr>\n",
       "    <tr>\n",
       "      <th>62</th>\n",
       "      <td>1</td>\n",
       "    </tr>\n",
       "  </tbody>\n",
       "</table>\n",
       "</div>"
      ],
      "text/plain": [
       "     R\n",
       "186  0\n",
       "155  0\n",
       "165  0\n",
       "200  0\n",
       "58   1\n",
       "34   1\n",
       "151  0\n",
       "18   1\n",
       "202  0\n",
       "62   1"
      ]
     },
     "execution_count": 29,
     "metadata": {},
     "output_type": "execute_result"
    }
   ],
   "source": [
    "y_test[:10]"
   ]
  },
  {
   "cell_type": "code",
   "execution_count": 31,
   "metadata": {},
   "outputs": [
    {
     "name": "stdout",
     "output_type": "stream",
     "text": [
      "              precision    recall  f1-score   support\n",
      "\n",
      "           0       0.75      0.89      0.81        27\n",
      "           1       0.85      0.68      0.76        25\n",
      "\n",
      "    accuracy                           0.79        52\n",
      "   macro avg       0.80      0.78      0.78        52\n",
      "weighted avg       0.80      0.79      0.79        52\n",
      "\n"
     ]
    }
   ],
   "source": [
    "from sklearn.metrics import confusion_matrix, classification_report\n",
    "print(classification_report(y_test,y_pred))"
   ]
  },
  {
   "cell_type": "markdown",
   "metadata": {},
   "source": [
    "## Dropout layer"
   ]
  },
  {
   "cell_type": "code",
   "execution_count": 36,
   "metadata": {},
   "outputs": [
    {
     "name": "stdout",
     "output_type": "stream",
     "text": [
      "Epoch 1/100\n",
      "20/20 [==============================] - 0s 807us/step - loss: 0.7107 - accuracy: 0.4551\n",
      "Epoch 2/100\n",
      "20/20 [==============================] - 0s 697us/step - loss: 0.6860 - accuracy: 0.5833\n",
      "Epoch 3/100\n",
      "20/20 [==============================] - 0s 693us/step - loss: 0.6885 - accuracy: 0.5513\n",
      "Epoch 4/100\n",
      "20/20 [==============================] - 0s 719us/step - loss: 0.6730 - accuracy: 0.5897\n",
      "Epoch 5/100\n",
      "20/20 [==============================] - 0s 696us/step - loss: 0.6753 - accuracy: 0.5833\n",
      "Epoch 6/100\n",
      "20/20 [==============================] - 0s 742us/step - loss: 0.6543 - accuracy: 0.6282\n",
      "Epoch 7/100\n",
      "20/20 [==============================] - 0s 739us/step - loss: 0.6477 - accuracy: 0.6090\n",
      "Epoch 8/100\n",
      "20/20 [==============================] - 0s 772us/step - loss: 0.6664 - accuracy: 0.6154\n",
      "Epoch 9/100\n",
      "20/20 [==============================] - 0s 783us/step - loss: 0.6116 - accuracy: 0.7179\n",
      "Epoch 10/100\n",
      "20/20 [==============================] - 0s 738us/step - loss: 0.6343 - accuracy: 0.6603\n",
      "Epoch 11/100\n",
      "20/20 [==============================] - 0s 780us/step - loss: 0.6280 - accuracy: 0.6667\n",
      "Epoch 12/100\n",
      "20/20 [==============================] - 0s 770us/step - loss: 0.5891 - accuracy: 0.6859\n",
      "Epoch 13/100\n",
      "20/20 [==============================] - 0s 717us/step - loss: 0.6009 - accuracy: 0.6603\n",
      "Epoch 14/100\n",
      "20/20 [==============================] - 0s 684us/step - loss: 0.5621 - accuracy: 0.6923\n",
      "Epoch 15/100\n",
      "20/20 [==============================] - 0s 679us/step - loss: 0.5723 - accuracy: 0.6731\n",
      "Epoch 16/100\n",
      "20/20 [==============================] - 0s 735us/step - loss: 0.5438 - accuracy: 0.7628\n",
      "Epoch 17/100\n",
      "20/20 [==============================] - 0s 745us/step - loss: 0.5224 - accuracy: 0.7628\n",
      "Epoch 18/100\n",
      "20/20 [==============================] - 0s 682us/step - loss: 0.5286 - accuracy: 0.7372\n",
      "Epoch 19/100\n",
      "20/20 [==============================] - 0s 735us/step - loss: 0.5231 - accuracy: 0.7372\n",
      "Epoch 20/100\n",
      "20/20 [==============================] - 0s 733us/step - loss: 0.4551 - accuracy: 0.8077\n",
      "Epoch 21/100\n",
      "20/20 [==============================] - 0s 735us/step - loss: 0.4835 - accuracy: 0.7628\n",
      "Epoch 22/100\n",
      "20/20 [==============================] - 0s 787us/step - loss: 0.4772 - accuracy: 0.7500\n",
      "Epoch 23/100\n",
      "20/20 [==============================] - 0s 717us/step - loss: 0.4721 - accuracy: 0.7628\n",
      "Epoch 24/100\n",
      "20/20 [==============================] - 0s 735us/step - loss: 0.4649 - accuracy: 0.7692\n",
      "Epoch 25/100\n",
      "20/20 [==============================] - 0s 776us/step - loss: 0.4687 - accuracy: 0.8077\n",
      "Epoch 26/100\n",
      "20/20 [==============================] - 0s 794us/step - loss: 0.4334 - accuracy: 0.8077\n",
      "Epoch 27/100\n",
      "20/20 [==============================] - 0s 735us/step - loss: 0.4252 - accuracy: 0.8269\n",
      "Epoch 28/100\n",
      "20/20 [==============================] - 0s 735us/step - loss: 0.4122 - accuracy: 0.8397\n",
      "Epoch 29/100\n",
      "20/20 [==============================] - 0s 684us/step - loss: 0.4124 - accuracy: 0.7949\n",
      "Epoch 30/100\n",
      "20/20 [==============================] - 0s 788us/step - loss: 0.4126 - accuracy: 0.8333\n",
      "Epoch 31/100\n",
      "20/20 [==============================] - 0s 735us/step - loss: 0.3977 - accuracy: 0.8526\n",
      "Epoch 32/100\n",
      "20/20 [==============================] - 0s 735us/step - loss: 0.4077 - accuracy: 0.7949\n",
      "Epoch 33/100\n",
      "20/20 [==============================] - 0s 763us/step - loss: 0.3964 - accuracy: 0.8141\n",
      "Epoch 34/100\n",
      "20/20 [==============================] - 0s 784us/step - loss: 0.3592 - accuracy: 0.8526\n",
      "Epoch 35/100\n",
      "20/20 [==============================] - 0s 813us/step - loss: 0.3656 - accuracy: 0.8141\n",
      "Epoch 36/100\n",
      "20/20 [==============================] - 0s 786us/step - loss: 0.3343 - accuracy: 0.8590\n",
      "Epoch 37/100\n",
      "20/20 [==============================] - 0s 840us/step - loss: 0.3495 - accuracy: 0.8462\n",
      "Epoch 38/100\n",
      "20/20 [==============================] - 0s 772us/step - loss: 0.3788 - accuracy: 0.8333\n",
      "Epoch 39/100\n",
      "20/20 [==============================] - 0s 729us/step - loss: 0.3796 - accuracy: 0.8269\n",
      "Epoch 40/100\n",
      "20/20 [==============================] - 0s 783us/step - loss: 0.3608 - accuracy: 0.8077\n",
      "Epoch 41/100\n",
      "20/20 [==============================] - 0s 735us/step - loss: 0.3601 - accuracy: 0.8205\n",
      "Epoch 42/100\n",
      "20/20 [==============================] - 0s 735us/step - loss: 0.3266 - accuracy: 0.8590\n",
      "Epoch 43/100\n",
      "20/20 [==============================] - 0s 835us/step - loss: 0.3278 - accuracy: 0.8397\n",
      "Epoch 44/100\n",
      "20/20 [==============================] - 0s 734us/step - loss: 0.3200 - accuracy: 0.8526\n",
      "Epoch 45/100\n",
      "20/20 [==============================] - 0s 747us/step - loss: 0.3001 - accuracy: 0.8526\n",
      "Epoch 46/100\n",
      "20/20 [==============================] - 0s 787us/step - loss: 0.3612 - accuracy: 0.8462\n",
      "Epoch 47/100\n",
      "20/20 [==============================] - 0s 748us/step - loss: 0.3029 - accuracy: 0.8654\n",
      "Epoch 48/100\n",
      "20/20 [==============================] - 0s 750us/step - loss: 0.3453 - accuracy: 0.8397\n",
      "Epoch 49/100\n",
      "20/20 [==============================] - 0s 750us/step - loss: 0.2711 - accuracy: 0.8718\n",
      "Epoch 50/100\n",
      "20/20 [==============================] - 0s 842us/step - loss: 0.3396 - accuracy: 0.8718\n",
      "Epoch 51/100\n",
      "20/20 [==============================] - 0s 720us/step - loss: 0.3087 - accuracy: 0.8654\n",
      "Epoch 52/100\n",
      "20/20 [==============================] - 0s 822us/step - loss: 0.3107 - accuracy: 0.8718\n",
      "Epoch 53/100\n",
      "20/20 [==============================] - 0s 735us/step - loss: 0.3049 - accuracy: 0.8718\n",
      "Epoch 54/100\n",
      "20/20 [==============================] - 0s 758us/step - loss: 0.2897 - accuracy: 0.8910\n",
      "Epoch 55/100\n",
      "20/20 [==============================] - 0s 794us/step - loss: 0.2884 - accuracy: 0.8974\n",
      "Epoch 56/100\n",
      "20/20 [==============================] - 0s 810us/step - loss: 0.3154 - accuracy: 0.8590\n",
      "Epoch 57/100\n",
      "20/20 [==============================] - 0s 831us/step - loss: 0.2778 - accuracy: 0.9038\n",
      "Epoch 58/100\n",
      "20/20 [==============================] - 0s 786us/step - loss: 0.2955 - accuracy: 0.8718\n",
      "Epoch 59/100\n",
      "20/20 [==============================] - 0s 786us/step - loss: 0.2546 - accuracy: 0.8782\n",
      "Epoch 60/100\n",
      "20/20 [==============================] - 0s 708us/step - loss: 0.2572 - accuracy: 0.8846\n",
      "Epoch 61/100\n",
      "20/20 [==============================] - 0s 682us/step - loss: 0.2756 - accuracy: 0.8654\n",
      "Epoch 62/100\n",
      "20/20 [==============================] - 0s 786us/step - loss: 0.2899 - accuracy: 0.8782\n",
      "Epoch 63/100\n",
      "20/20 [==============================] - 0s 786us/step - loss: 0.2442 - accuracy: 0.8974\n",
      "Epoch 64/100\n",
      "20/20 [==============================] - 0s 734us/step - loss: 0.2748 - accuracy: 0.8974\n",
      "Epoch 65/100\n",
      "20/20 [==============================] - 0s 735us/step - loss: 0.2115 - accuracy: 0.9103\n",
      "Epoch 66/100\n",
      "20/20 [==============================] - 0s 630us/step - loss: 0.2326 - accuracy: 0.9231\n",
      "Epoch 67/100\n",
      "20/20 [==============================] - 0s 741us/step - loss: 0.2462 - accuracy: 0.8910\n",
      "Epoch 68/100\n",
      "20/20 [==============================] - 0s 791us/step - loss: 0.2603 - accuracy: 0.9038\n",
      "Epoch 69/100\n",
      "20/20 [==============================] - 0s 735us/step - loss: 0.2538 - accuracy: 0.8782\n",
      "Epoch 70/100\n",
      "20/20 [==============================] - 0s 755us/step - loss: 0.2771 - accuracy: 0.8974\n",
      "Epoch 71/100\n",
      "20/20 [==============================] - 0s 737us/step - loss: 0.2216 - accuracy: 0.8974\n",
      "Epoch 72/100\n",
      "20/20 [==============================] - 0s 718us/step - loss: 0.2276 - accuracy: 0.9231\n",
      "Epoch 73/100\n",
      "20/20 [==============================] - 0s 682us/step - loss: 0.1639 - accuracy: 0.9615\n",
      "Epoch 74/100\n",
      "20/20 [==============================] - 0s 735us/step - loss: 0.2325 - accuracy: 0.9038\n",
      "Epoch 75/100\n",
      "20/20 [==============================] - 0s 736us/step - loss: 0.1998 - accuracy: 0.9167\n",
      "Epoch 76/100\n",
      "20/20 [==============================] - 0s 735us/step - loss: 0.2093 - accuracy: 0.9231\n",
      "Epoch 77/100\n",
      "20/20 [==============================] - 0s 788us/step - loss: 0.1953 - accuracy: 0.9038\n",
      "Epoch 78/100\n",
      "20/20 [==============================] - 0s 787us/step - loss: 0.2044 - accuracy: 0.9359\n",
      "Epoch 79/100\n",
      "20/20 [==============================] - 0s 710us/step - loss: 0.2078 - accuracy: 0.8846\n",
      "Epoch 80/100\n",
      "20/20 [==============================] - 0s 737us/step - loss: 0.2031 - accuracy: 0.9231\n",
      "Epoch 81/100\n",
      "20/20 [==============================] - 0s 673us/step - loss: 0.2042 - accuracy: 0.9167\n",
      "Epoch 82/100\n",
      "20/20 [==============================] - 0s 793us/step - loss: 0.1634 - accuracy: 0.9551\n",
      "Epoch 83/100\n",
      "20/20 [==============================] - 0s 784us/step - loss: 0.2490 - accuracy: 0.9038\n",
      "Epoch 84/100\n",
      "20/20 [==============================] - 0s 734us/step - loss: 0.2308 - accuracy: 0.9167\n",
      "Epoch 85/100\n",
      "20/20 [==============================] - 0s 736us/step - loss: 0.2398 - accuracy: 0.9038\n",
      "Epoch 86/100\n",
      "20/20 [==============================] - 0s 735us/step - loss: 0.1843 - accuracy: 0.9295\n",
      "Epoch 87/100\n",
      "20/20 [==============================] - 0s 733us/step - loss: 0.1939 - accuracy: 0.9359\n",
      "Epoch 88/100\n",
      "20/20 [==============================] - 0s 735us/step - loss: 0.1697 - accuracy: 0.9231\n",
      "Epoch 89/100\n",
      "20/20 [==============================] - 0s 727us/step - loss: 0.1349 - accuracy: 0.9487\n",
      "Epoch 90/100\n",
      "20/20 [==============================] - 0s 726us/step - loss: 0.2693 - accuracy: 0.8846\n",
      "Epoch 91/100\n",
      "20/20 [==============================] - 0s 765us/step - loss: 0.2131 - accuracy: 0.9103\n",
      "Epoch 92/100\n",
      "20/20 [==============================] - 0s 682us/step - loss: 0.1819 - accuracy: 0.9295\n",
      "Epoch 93/100\n",
      "20/20 [==============================] - 0s 840us/step - loss: 0.1285 - accuracy: 0.9551\n",
      "Epoch 94/100\n",
      "20/20 [==============================] - 0s 737us/step - loss: 0.1529 - accuracy: 0.9423\n",
      "Epoch 95/100\n",
      "20/20 [==============================] - 0s 723us/step - loss: 0.2081 - accuracy: 0.9038\n",
      "Epoch 96/100\n",
      "20/20 [==============================] - 0s 773us/step - loss: 0.1795 - accuracy: 0.9167\n",
      "Epoch 97/100\n",
      "20/20 [==============================] - 0s 772us/step - loss: 0.1809 - accuracy: 0.9295\n",
      "Epoch 98/100\n",
      "20/20 [==============================] - 0s 717us/step - loss: 0.1616 - accuracy: 0.9295\n",
      "Epoch 99/100\n",
      "20/20 [==============================] - 0s 735us/step - loss: 0.1785 - accuracy: 0.9167\n",
      "Epoch 100/100\n",
      "20/20 [==============================] - 0s 728us/step - loss: 0.1828 - accuracy: 0.9359\n"
     ]
    },
    {
     "data": {
      "text/plain": [
       "<tensorflow.python.keras.callbacks.History at 0x24f4d30ddf0>"
      ]
     },
     "execution_count": 36,
     "metadata": {},
     "output_type": "execute_result"
    }
   ],
   "source": [
    "model1=keras.Sequential([\n",
    "    keras.layers.Dense(60,input_dim=60, activation='relu'),\n",
    "    keras.layers.Dropout(0.5),\n",
    "    keras.layers.Dense(30,activation='relu'),\n",
    "    keras.layers.Dense(15,activation='relu'),\n",
    "    keras.layers.Dense(1,activation='sigmoid')\n",
    "])\n",
    "\n",
    "model1.compile(loss='binary_crossentropy',optimizer='adam',metrics=['accuracy'])\n",
    "\n",
    "model1.fit(x_train,y_train,epochs=100,batch_size=8)"
   ]
  },
  {
   "cell_type": "code",
   "execution_count": 37,
   "metadata": {},
   "outputs": [
    {
     "name": "stdout",
     "output_type": "stream",
     "text": [
      "2/2 [==============================] - 0s 1ms/step - loss: 0.4650 - accuracy: 0.7885\n"
     ]
    },
    {
     "data": {
      "text/plain": [
       "[0.4649783670902252, 0.7884615659713745]"
      ]
     },
     "execution_count": 37,
     "metadata": {},
     "output_type": "execute_result"
    }
   ],
   "source": [
    "model1.evaluate(x_test,y_test)"
   ]
  },
  {
   "cell_type": "code",
   "execution_count": 39,
   "metadata": {},
   "outputs": [],
   "source": [
    "y_pred=model1.predict(x_test).reshape(-1)\n",
    "y_pred=np.round(y_pred)"
   ]
  },
  {
   "cell_type": "code",
   "execution_count": 40,
   "metadata": {},
   "outputs": [
    {
     "name": "stdout",
     "output_type": "stream",
     "text": [
      "              precision    recall  f1-score   support\n",
      "\n",
      "           0       0.75      0.89      0.81        27\n",
      "           1       0.85      0.68      0.76        25\n",
      "\n",
      "    accuracy                           0.79        52\n",
      "   macro avg       0.80      0.78      0.78        52\n",
      "weighted avg       0.80      0.79      0.79        52\n",
      "\n"
     ]
    }
   ],
   "source": [
    "print(classification_report(y_test,y_pred))"
   ]
  }
 ],
 "metadata": {
  "kernelspec": {
   "display_name": "Python 3",
   "language": "python",
   "name": "python3"
  },
  "language_info": {
   "codemirror_mode": {
    "name": "ipython",
    "version": 3
   },
   "file_extension": ".py",
   "mimetype": "text/x-python",
   "name": "python",
   "nbconvert_exporter": "python",
   "pygments_lexer": "ipython3",
   "version": "3.8.3"
  }
 },
 "nbformat": 4,
 "nbformat_minor": 4
}
